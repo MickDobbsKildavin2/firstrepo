{
  "cells": [
    {
      "cell_type": "markdown",
      "metadata": {
        "id": "view-in-github",
        "colab_type": "text"
      },
      "source": [
        "<a href=\"https://colab.research.google.com/github/MickDobbsKildavin2/firstrepo/blob/main/Lab5-my-data1.ipynb\" target=\"_parent\"><img src=\"https://colab.research.google.com/assets/colab-badge.svg\" alt=\"Open In Colab\"/></a>"
      ]
    },
    {
      "cell_type": "markdown",
      "id": "343dd1e2",
      "metadata": {
        "id": "343dd1e2"
      },
      "source": [
        "# Lab 5 for Big Data programming.\n",
        "# Apache Spark Machine Learning using Dataframes in Google Colab\n",
        "\n",
        "\n"
      ]
    },
    {
      "cell_type": "markdown",
      "id": "3b16332d",
      "metadata": {
        "id": "3b16332d"
      },
      "source": [
        "# 1.\tSetup an Apache Spark instance in Google Colab"
      ]
    },
    {
      "cell_type": "code",
      "execution_count": 7,
      "id": "1980102b",
      "metadata": {
        "id": "1980102b"
      },
      "outputs": [],
      "source": [
        "# Run once.\n",
        "\n",
        "!apt-get install openjdk-8-jdk-headless -qq > /dev/null\n",
        "!wget -q https://archive.apache.org/dist/spark/spark-3.0.2/spark-3.0.2-bin-hadoop2.7.tgz\n",
        "!tar xf spark-3.0.2-bin-hadoop2.7.tgz\n",
        "!pip install -q findspark\n",
        "\n",
        "#Run Once\n",
        "import os\n",
        "os.environ[\"SPARK_HOME\"] = \"/content/spark-3.0.2-bin-hadoop2.7\"\n",
        "import findspark\n",
        "findspark.init()\n"
      ]
    },
    {
      "cell_type": "markdown",
      "id": "17fd7c95",
      "metadata": {
        "id": "17fd7c95"
      },
      "source": [
        "# 2.\tCreate a Spark session"
      ]
    },
    {
      "cell_type": "code",
      "execution_count": 8,
      "id": "72c9103e",
      "metadata": {
        "colab": {
          "base_uri": "https://localhost:8080/",
          "height": 219
        },
        "id": "72c9103e",
        "outputId": "33e3c819-3174-4552-d5de-509267ad4f3e"
      },
      "outputs": [
        {
          "output_type": "execute_result",
          "data": {
            "text/plain": [
              "<pyspark.sql.session.SparkSession at 0x7f288007d6a0>"
            ],
            "text/html": [
              "\n",
              "            <div>\n",
              "                <p><b>SparkSession - in-memory</b></p>\n",
              "                \n",
              "        <div>\n",
              "            <p><b>SparkContext</b></p>\n",
              "\n",
              "            <p><a href=\"http://0959d33011fa:4050\">Spark UI</a></p>\n",
              "\n",
              "            <dl>\n",
              "              <dt>Version</dt>\n",
              "                <dd><code>v3.0.2</code></dd>\n",
              "              <dt>Master</dt>\n",
              "                <dd><code>local</code></dd>\n",
              "              <dt>AppName</dt>\n",
              "                <dd><code>Colab</code></dd>\n",
              "            </dl>\n",
              "        </div>\n",
              "        \n",
              "            </div>\n",
              "        "
            ]
          },
          "metadata": {},
          "execution_count": 8
        }
      ],
      "source": [
        "from pyspark.sql import SparkSession\n",
        "spark = SparkSession.builder\\\n",
        "        .master(\"local\")\\\n",
        "        .appName(\"Colab\")\\\n",
        "        .config('spark.ui.port', '4050')\\\n",
        "        .getOrCreate()\n",
        "spark\n"
      ]
    },
    {
      "cell_type": "markdown",
      "id": "174d4ca8",
      "metadata": {
        "id": "174d4ca8"
      },
      "source": [
        "# 3.\tDownload the adult dataset .\n",
        "\n"
      ]
    },
    {
      "cell_type": "code",
      "execution_count": 30,
      "id": "5e90c781",
      "metadata": {
        "colab": {
          "base_uri": "https://localhost:8080/"
        },
        "id": "5e90c781",
        "outputId": "de40f6c6-b558-4610-923b-52422037b153"
      },
      "outputs": [
        {
          "output_type": "stream",
          "name": "stdout",
          "text": [
            "--2023-03-26 12:33:00--  https://archive.ics.uci.edu/ml/machine-learning-databases/adult/adult.data\n",
            "Resolving archive.ics.uci.edu (archive.ics.uci.edu)... 128.195.10.252\n",
            "Connecting to archive.ics.uci.edu (archive.ics.uci.edu)|128.195.10.252|:443... connected.\n",
            "HTTP request sent, awaiting response... 200 OK\n",
            "Length: 3974305 (3.8M) [application/x-httpd-php]\n",
            "Saving to: ‘sample_data/adult.data’\n",
            "\n",
            "sample_data/adult.d 100%[===================>]   3.79M  7.03MB/s    in 0.5s    \n",
            "\n",
            "2023-03-26 12:33:01 (7.03 MB/s) - ‘sample_data/adult.data’ saved [3974305/3974305]\n",
            "\n"
          ]
        }
      ],
      "source": [
        "!wget \"https://archive.ics.uci.edu/ml/machine-learning-databases/adult/adult.data\" -O sample_data/adult.data"
      ]
    },
    {
      "cell_type": "markdown",
      "id": "e51cd4c2",
      "metadata": {
        "id": "e51cd4c2"
      },
      "source": [
        "# 4.\tImport the adult dataset into a dataframe and insert screenshot of df.show()command output:"
      ]
    },
    {
      "cell_type": "code",
      "execution_count": 40,
      "id": "1f6bcfb1",
      "metadata": {
        "id": "1f6bcfb1"
      },
      "outputs": [],
      "source": [
        "#df = spark.read.csv('sample_data/adult.data', inferSchema=True)\\\n",
        "df = spark.read.csv('sample_data/adult.data', header=False, sep=\",\", inferSchema=True)\\\n",
        ".toDF(\"age\",\"workclass\",\"fnlwgt\",\"education\",\"education-num\",\"marital-status\",\"occupation\",\"relationship\",\"race\",\"sex\",\"capital-gain\",\"capital-loss\",\"hours-per-week\",\"Class\",\"salary\")"
      ]
    },
    {
      "cell_type": "markdown",
      "source": [
        "insert screenshot of df.show()command output:"
      ],
      "metadata": {
        "id": "XzcAZXGctMKq"
      },
      "id": "XzcAZXGctMKq"
    },
    {
      "cell_type": "code",
      "source": [
        "df.show()"
      ],
      "metadata": {
        "colab": {
          "base_uri": "https://localhost:8080/"
        },
        "id": "ZSN8o-vctGqU",
        "outputId": "3f4789ab-dd5b-49b7-9e08-619e716bbd0e"
      },
      "id": "ZSN8o-vctGqU",
      "execution_count": 41,
      "outputs": [
        {
          "output_type": "stream",
          "name": "stdout",
          "text": [
            "+---+-----------------+--------+-------------+-------------+--------------------+------------------+--------------+-------------------+-------+------------+------------+--------------+--------------+------+\n",
            "|age|        workclass|  fnlwgt|    education|education-num|      marital-status|        occupation|  relationship|               race|    sex|capital-gain|capital-loss|hours-per-week|         Class|salary|\n",
            "+---+-----------------+--------+-------------+-------------+--------------------+------------------+--------------+-------------------+-------+------------+------------+--------------+--------------+------+\n",
            "| 39|        State-gov| 77516.0|    Bachelors|         13.0|       Never-married|      Adm-clerical| Not-in-family|              White|   Male|      2174.0|         0.0|          40.0| United-States| <=50K|\n",
            "| 50| Self-emp-not-inc| 83311.0|    Bachelors|         13.0|  Married-civ-spouse|   Exec-managerial|       Husband|              White|   Male|         0.0|         0.0|          13.0| United-States| <=50K|\n",
            "| 38|          Private|215646.0|      HS-grad|          9.0|            Divorced| Handlers-cleaners| Not-in-family|              White|   Male|         0.0|         0.0|          40.0| United-States| <=50K|\n",
            "| 53|          Private|234721.0|         11th|          7.0|  Married-civ-spouse| Handlers-cleaners|       Husband|              Black|   Male|         0.0|         0.0|          40.0| United-States| <=50K|\n",
            "| 28|          Private|338409.0|    Bachelors|         13.0|  Married-civ-spouse|    Prof-specialty|          Wife|              Black| Female|         0.0|         0.0|          40.0|          Cuba| <=50K|\n",
            "| 37|          Private|284582.0|      Masters|         14.0|  Married-civ-spouse|   Exec-managerial|          Wife|              White| Female|         0.0|         0.0|          40.0| United-States| <=50K|\n",
            "| 49|          Private|160187.0|          9th|          5.0| Married-spouse-a...|     Other-service| Not-in-family|              Black| Female|         0.0|         0.0|          16.0|       Jamaica| <=50K|\n",
            "| 52| Self-emp-not-inc|209642.0|      HS-grad|          9.0|  Married-civ-spouse|   Exec-managerial|       Husband|              White|   Male|         0.0|         0.0|          45.0| United-States|  >50K|\n",
            "| 31|          Private| 45781.0|      Masters|         14.0|       Never-married|    Prof-specialty| Not-in-family|              White| Female|     14084.0|         0.0|          50.0| United-States|  >50K|\n",
            "| 42|          Private|159449.0|    Bachelors|         13.0|  Married-civ-spouse|   Exec-managerial|       Husband|              White|   Male|      5178.0|         0.0|          40.0| United-States|  >50K|\n",
            "| 37|          Private|280464.0| Some-college|         10.0|  Married-civ-spouse|   Exec-managerial|       Husband|              Black|   Male|         0.0|         0.0|          80.0| United-States|  >50K|\n",
            "| 30|        State-gov|141297.0|    Bachelors|         13.0|  Married-civ-spouse|    Prof-specialty|       Husband| Asian-Pac-Islander|   Male|         0.0|         0.0|          40.0|         India|  >50K|\n",
            "| 23|          Private|122272.0|    Bachelors|         13.0|       Never-married|      Adm-clerical|     Own-child|              White| Female|         0.0|         0.0|          30.0| United-States| <=50K|\n",
            "| 32|          Private|205019.0|   Assoc-acdm|         12.0|       Never-married|             Sales| Not-in-family|              Black|   Male|         0.0|         0.0|          50.0| United-States| <=50K|\n",
            "| 40|          Private|121772.0|    Assoc-voc|         11.0|  Married-civ-spouse|      Craft-repair|       Husband| Asian-Pac-Islander|   Male|         0.0|         0.0|          40.0|             ?|  >50K|\n",
            "| 34|          Private|245487.0|      7th-8th|          4.0|  Married-civ-spouse|  Transport-moving|       Husband| Amer-Indian-Eskimo|   Male|         0.0|         0.0|          45.0|        Mexico| <=50K|\n",
            "| 25| Self-emp-not-inc|176756.0|      HS-grad|          9.0|       Never-married|   Farming-fishing|     Own-child|              White|   Male|         0.0|         0.0|          35.0| United-States| <=50K|\n",
            "| 32|          Private|186824.0|      HS-grad|          9.0|       Never-married| Machine-op-inspct|     Unmarried|              White|   Male|         0.0|         0.0|          40.0| United-States| <=50K|\n",
            "| 38|          Private| 28887.0|         11th|          7.0|  Married-civ-spouse|             Sales|       Husband|              White|   Male|         0.0|         0.0|          50.0| United-States| <=50K|\n",
            "| 43| Self-emp-not-inc|292175.0|      Masters|         14.0|            Divorced|   Exec-managerial|     Unmarried|              White| Female|         0.0|         0.0|          45.0| United-States|  >50K|\n",
            "+---+-----------------+--------+-------------+-------------+--------------------+------------------+--------------+-------------------+-------+------------+------------+--------------+--------------+------+\n",
            "only showing top 20 rows\n",
            "\n"
          ]
        }
      ]
    },
    {
      "cell_type": "markdown",
      "id": "4b67ee40",
      "metadata": {
        "id": "4b67ee40"
      },
      "source": [
        "# 5.\tSpark ML can only deal with one features column - so we need to vectorise the multiple columns into one:"
      ]
    },
    {
      "cell_type": "code",
      "execution_count": 42,
      "id": "84b8879a",
      "metadata": {
        "id": "84b8879a"
      },
      "outputs": [],
      "source": [
        "from pyspark.ml.linalg import Vectors\n",
        "from pyspark.ml.feature import VectorAssembler\n"
      ]
    },
    {
      "cell_type": "code",
      "execution_count": 43,
      "id": "6c9645cc",
      "metadata": {
        "colab": {
          "base_uri": "https://localhost:8080/"
        },
        "id": "6c9645cc",
        "outputId": "d5e2c2f9-2ed3-497d-a3c2-a51f974e7466"
      },
      "outputs": [
        {
          "output_type": "stream",
          "name": "stdout",
          "text": [
            "+---+-----------------+--------+----------+-------------+-------------------+------------------+--------------+------+-----+------------+------------+--------------+--------------+------+--------------------+\n",
            "|age|        workclass|  fnlwgt| education|education-num|     marital-status|        occupation|  relationship|  race|  sex|capital-gain|capital-loss|hours-per-week|         Class|salary|            features|\n",
            "+---+-----------------+--------+----------+-------------+-------------------+------------------+--------------+------+-----+------------+------------+--------------+--------------+------+--------------------+\n",
            "| 39|        State-gov| 77516.0| Bachelors|         13.0|      Never-married|      Adm-clerical| Not-in-family| White| Male|      2174.0|         0.0|          40.0| United-States| <=50K|[39.0,77516.0,13....|\n",
            "| 50| Self-emp-not-inc| 83311.0| Bachelors|         13.0| Married-civ-spouse|   Exec-managerial|       Husband| White| Male|         0.0|         0.0|          13.0| United-States| <=50K|[50.0,83311.0,13....|\n",
            "| 38|          Private|215646.0|   HS-grad|          9.0|           Divorced| Handlers-cleaners| Not-in-family| White| Male|         0.0|         0.0|          40.0| United-States| <=50K|[38.0,215646.0,9....|\n",
            "+---+-----------------+--------+----------+-------------+-------------------+------------------+--------------+------+-----+------------+------------+--------------+--------------+------+--------------------+\n",
            "only showing top 3 rows\n",
            "\n"
          ]
        }
      ],
      "source": [
        "vector_assembler=VectorAssembler(\\\n",
        "inputCols=[\"age\",\"fnlwgt\",\"education-num\",\"capital-gain\",\"capital-loss\",\"hours-per-week\"],\\\n",
        "outputCol=\"features\")\n",
        "df_temp=vector_assembler.transform(df)\n",
        "df_temp.show(3)"
      ]
    },
    {
      "cell_type": "markdown",
      "source": [
        "Drop the original feature columns and just display Class & features - add screenshot here:"
      ],
      "metadata": {
        "id": "wFli-iIetuxD"
      },
      "id": "wFli-iIetuxD"
    },
    {
      "cell_type": "code",
      "execution_count": 48,
      "id": "0a378120",
      "metadata": {
        "colab": {
          "base_uri": "https://localhost:8080/"
        },
        "id": "0a378120",
        "outputId": "d1276105-827a-4af7-93da-c1320930dc41"
      },
      "outputs": [
        {
          "output_type": "stream",
          "name": "stdout",
          "text": [
            "+--------------+--------------------+\n",
            "|         Class|            features|\n",
            "+--------------+--------------------+\n",
            "| United-States|[39.0,77516.0,13....|\n",
            "| United-States|[50.0,83311.0,13....|\n",
            "| United-States|[38.0,215646.0,9....|\n",
            "+--------------+--------------------+\n",
            "only showing top 3 rows\n",
            "\n"
          ]
        }
      ],
      "source": [
        "df=df_temp.drop(\"age\",\"fnlwgt\",\"education-num\",\"capital-gain\",\"capital-loss\",\"workclass\",\"hours-per-week\",\"education\",\"relationship\",\"sex\",\"race\",\"marital-status\",\"occupation\",\"native-country\",\"salary\")\n",
        "df_temp.show(3)\n"
      ]
    },
    {
      "cell_type": "markdown",
      "id": "d0b40bbd",
      "metadata": {
        "id": "d0b40bbd"
      },
      "source": [
        "# 6.\tThe final data preparation step is to index the Class column - to use numeric rather than text values - run the following command and display your output of Class, features & ClassIndex columns:"
      ]
    },
    {
      "cell_type": "code",
      "execution_count": 49,
      "id": "b9edf238",
      "metadata": {
        "id": "b9edf238"
      },
      "outputs": [],
      "source": [
        "from pyspark.ml.feature import StringIndexer\n",
        "l_indexer=StringIndexer(inputCol=\"Class\", outputCol=\"ClassIndex\")\n",
        "df = l_indexer.fit(df).transform(df)"
      ]
    },
    {
      "cell_type": "code",
      "execution_count": 50,
      "id": "9902f767",
      "metadata": {
        "colab": {
          "base_uri": "https://localhost:8080/"
        },
        "id": "9902f767",
        "outputId": "f8f119e3-773c-4963-b7cb-e91cfb50cd21"
      },
      "outputs": [
        {
          "output_type": "stream",
          "name": "stdout",
          "text": [
            "+--------------+--------------------+----------+\n",
            "|         Class|            features|ClassIndex|\n",
            "+--------------+--------------------+----------+\n",
            "| United-States|[39.0,77516.0,13....|       0.0|\n",
            "| United-States|[50.0,83311.0,13....|       0.0|\n",
            "| United-States|[38.0,215646.0,9....|       0.0|\n",
            "| United-States|[53.0,234721.0,7....|       0.0|\n",
            "|          Cuba|[28.0,338409.0,13...|       9.0|\n",
            "| United-States|[37.0,284582.0,14...|       0.0|\n",
            "|       Jamaica|[49.0,160187.0,5....|      11.0|\n",
            "| United-States|[52.0,209642.0,9....|       0.0|\n",
            "| United-States|[31.0,45781.0,14....|       0.0|\n",
            "| United-States|[42.0,159449.0,13...|       0.0|\n",
            "+--------------+--------------------+----------+\n",
            "only showing top 10 rows\n",
            "\n"
          ]
        }
      ],
      "source": [
        "df.show(10)"
      ]
    },
    {
      "cell_type": "markdown",
      "source": [
        "I think I need to use the temp dataframe here to keep the new feature."
      ],
      "metadata": {
        "id": "G_lgDerUwHKz"
      },
      "id": "G_lgDerUwHKz"
    },
    {
      "cell_type": "code",
      "execution_count": 51,
      "metadata": {
        "id": "DaUgu1Cxv1Y6"
      },
      "outputs": [],
      "source": [
        "df = l_indexer.fit(df_temp).transform(df_temp)"
      ],
      "id": "DaUgu1Cxv1Y6"
    },
    {
      "cell_type": "code",
      "source": [
        "df.show()"
      ],
      "metadata": {
        "colab": {
          "base_uri": "https://localhost:8080/"
        },
        "id": "FCxXPgaCvs_O",
        "outputId": "3b725609-dcee-4c92-e574-2b4a98229082"
      },
      "id": "FCxXPgaCvs_O",
      "execution_count": 52,
      "outputs": [
        {
          "output_type": "stream",
          "name": "stdout",
          "text": [
            "+--------------+--------------------+----------+\n",
            "|         Class|            features|ClassIndex|\n",
            "+--------------+--------------------+----------+\n",
            "| United-States|[39.0,77516.0,13....|       0.0|\n",
            "| United-States|[50.0,83311.0,13....|       0.0|\n",
            "| United-States|[38.0,215646.0,9....|       0.0|\n",
            "| United-States|[53.0,234721.0,7....|       0.0|\n",
            "|          Cuba|[28.0,338409.0,13...|       9.0|\n",
            "| United-States|[37.0,284582.0,14...|       0.0|\n",
            "|       Jamaica|[49.0,160187.0,5....|      11.0|\n",
            "| United-States|[52.0,209642.0,9....|       0.0|\n",
            "| United-States|[31.0,45781.0,14....|       0.0|\n",
            "| United-States|[42.0,159449.0,13...|       0.0|\n",
            "| United-States|[37.0,280464.0,10...|       0.0|\n",
            "|         India|[30.0,141297.0,13...|       8.0|\n",
            "| United-States|[23.0,122272.0,13...|       0.0|\n",
            "| United-States|[32.0,205019.0,12...|       0.0|\n",
            "|             ?|[40.0,121772.0,11...|       2.0|\n",
            "|        Mexico|[34.0,245487.0,4....|       1.0|\n",
            "| United-States|[25.0,176756.0,9....|       0.0|\n",
            "| United-States|[32.0,186824.0,9....|       0.0|\n",
            "| United-States|[38.0,28887.0,7.0...|       0.0|\n",
            "| United-States|[43.0,292175.0,14...|       0.0|\n",
            "+--------------+--------------------+----------+\n",
            "only showing top 20 rows\n",
            "\n"
          ]
        }
      ]
    },
    {
      "cell_type": "code",
      "source": [],
      "metadata": {
        "id": "KVYpOMN6vtkA"
      },
      "id": "KVYpOMN6vtkA",
      "execution_count": null,
      "outputs": []
    },
    {
      "cell_type": "markdown",
      "id": "01142097",
      "metadata": {
        "id": "01142097"
      },
      "source": [
        "# 7.\tSplit your data into training and test datasets:"
      ]
    },
    {
      "cell_type": "code",
      "execution_count": 53,
      "id": "9b11cb09",
      "metadata": {
        "id": "9b11cb09"
      },
      "outputs": [],
      "source": [
        "(trainingData,testData) = df.randomSplit([0.7,0.3])"
      ]
    },
    {
      "cell_type": "markdown",
      "id": "cccddb4c",
      "metadata": {
        "id": "cccddb4c"
      },
      "source": [
        "# 8.\tDecision Tree Classifier \n",
        "## Specify the DecisionTreeClassifier and train the model on your training dataset:\n"
      ]
    },
    {
      "cell_type": "code",
      "execution_count": 54,
      "id": "8b3dfcdf",
      "metadata": {
        "id": "8b3dfcdf"
      },
      "outputs": [],
      "source": [
        "from pyspark.ml.classification import DecisionTreeClassifier \n",
        "from pyspark.ml.evaluation import MulticlassClassificationEvaluator\n"
      ]
    },
    {
      "cell_type": "code",
      "source": [
        "trainingData"
      ],
      "metadata": {
        "colab": {
          "base_uri": "https://localhost:8080/"
        },
        "id": "y2fdCcimu0D5",
        "outputId": "453e9587-a675-42d2-da97-32ad2a6b2ad9"
      },
      "id": "y2fdCcimu0D5",
      "execution_count": 55,
      "outputs": [
        {
          "output_type": "execute_result",
          "data": {
            "text/plain": [
              "DataFrame[Class: string, features: vector, ClassIndex: double]"
            ]
          },
          "metadata": {},
          "execution_count": 55
        }
      ]
    },
    {
      "cell_type": "code",
      "execution_count": 56,
      "id": "a360ce00",
      "metadata": {
        "id": "a360ce00"
      },
      "outputs": [],
      "source": [
        "dt = DecisionTreeClassifier(labelCol=\"ClassIndex\",featuresCol=\"features\")"
      ]
    },
    {
      "cell_type": "code",
      "source": [
        "model = dt.fit(trainingData)"
      ],
      "metadata": {
        "id": "_Ek1SgDeu90x"
      },
      "id": "_Ek1SgDeu90x",
      "execution_count": 57,
      "outputs": []
    },
    {
      "cell_type": "markdown",
      "id": "a050d976",
      "metadata": {
        "id": "a050d976"
      },
      "source": [
        "# 9.\tTest your model with your test dataset: "
      ]
    },
    {
      "cell_type": "code",
      "execution_count": 58,
      "id": "813e78ee",
      "metadata": {
        "id": "813e78ee"
      },
      "outputs": [],
      "source": [
        "predictions = model.transform(testData)"
      ]
    },
    {
      "cell_type": "code",
      "execution_count": 59,
      "id": "26649045",
      "metadata": {
        "colab": {
          "base_uri": "https://localhost:8080/"
        },
        "id": "26649045",
        "outputId": "b4b77c4d-24b5-47c7-a03e-4f013fae54b5"
      },
      "outputs": [
        {
          "output_type": "stream",
          "name": "stdout",
          "text": [
            "+----------+----------+\n",
            "|prediction|ClassIndex|\n",
            "+----------+----------+\n",
            "|       0.0|       2.0|\n",
            "|       0.0|       2.0|\n",
            "|       0.0|       2.0|\n",
            "|       0.0|       2.0|\n",
            "|       0.0|       2.0|\n",
            "+----------+----------+\n",
            "only showing top 5 rows\n",
            "\n"
          ]
        }
      ],
      "source": [
        "predictions.select(\"prediction\",\"ClassIndex\").show(5)"
      ]
    },
    {
      "cell_type": "markdown",
      "source": [
        "Insert a screenshot here of the first 15 rows of data:"
      ],
      "metadata": {
        "id": "C4TPe6YixJEG"
      },
      "id": "C4TPe6YixJEG"
    },
    {
      "cell_type": "code",
      "source": [
        "predictions.select(\"prediction\",\"ClassIndex\").show(15)"
      ],
      "metadata": {
        "colab": {
          "base_uri": "https://localhost:8080/"
        },
        "id": "E8noAnuexHGQ",
        "outputId": "5760f148-ade6-4862-fc4a-0f194bba4d97"
      },
      "id": "E8noAnuexHGQ",
      "execution_count": 60,
      "outputs": [
        {
          "output_type": "stream",
          "name": "stdout",
          "text": [
            "+----------+----------+\n",
            "|prediction|ClassIndex|\n",
            "+----------+----------+\n",
            "|       0.0|       2.0|\n",
            "|       0.0|       2.0|\n",
            "|       0.0|       2.0|\n",
            "|       0.0|       2.0|\n",
            "|       0.0|       2.0|\n",
            "|       0.0|       2.0|\n",
            "|       0.0|       2.0|\n",
            "|       0.0|       2.0|\n",
            "|       0.0|       2.0|\n",
            "|       0.0|       2.0|\n",
            "|       0.0|       2.0|\n",
            "|       0.0|       2.0|\n",
            "|       0.0|       2.0|\n",
            "|       0.0|       2.0|\n",
            "|       0.0|       2.0|\n",
            "+----------+----------+\n",
            "only showing top 15 rows\n",
            "\n"
          ]
        }
      ]
    },
    {
      "cell_type": "markdown",
      "id": "01fa3774",
      "metadata": {
        "id": "01fa3774"
      },
      "source": [
        "# 10.\tRun an evaluator function to show the accuracy of your model:"
      ]
    },
    {
      "cell_type": "code",
      "execution_count": 61,
      "id": "0e056416",
      "metadata": {
        "colab": {
          "base_uri": "https://localhost:8080/"
        },
        "id": "0e056416",
        "outputId": "40835bb5-db05-405a-95d5-173b98cd21a6"
      },
      "outputs": [
        {
          "output_type": "stream",
          "name": "stdout",
          "text": [
            "Test Error = 0.10298\n",
            "Test Set accuracy = 0.8970195272353546\n"
          ]
        }
      ],
      "source": [
        "evaluator= MulticlassClassificationEvaluator(\\\n",
        "labelCol=\"ClassIndex\", predictionCol=\"prediction\",\\\n",
        "metricName=\"accuracy\")\n",
        "accuracy=evaluator.evaluate(predictions)\n",
        "print(\"Test Error = %g\" % (1.0 - accuracy))\n",
        "print(\"Test Set accuracy = \" +str(accuracy))"
      ]
    },
    {
      "cell_type": "markdown",
      "id": "83b3ea17",
      "metadata": {
        "id": "83b3ea17"
      },
      "source": [
        "# 11.\tRandom Forest Classifier\n",
        "\n",
        "## Specify the RandomForestClassifier, train the model on your training dataset, predict using your test dataset, and run an evaluator to test accuracy:\n"
      ]
    },
    {
      "cell_type": "code",
      "execution_count": 62,
      "id": "d8f0e628",
      "metadata": {
        "colab": {
          "base_uri": "https://localhost:8080/"
        },
        "id": "d8f0e628",
        "outputId": "1f921535-b730-4025-aba1-2ce2300172b9"
      },
      "outputs": [
        {
          "output_type": "stream",
          "name": "stdout",
          "text": [
            "+----------+----------+\n",
            "|prediction|ClassIndex|\n",
            "+----------+----------+\n",
            "|       0.0|       2.0|\n",
            "|       0.0|       2.0|\n",
            "|       0.0|       2.0|\n",
            "|       0.0|       2.0|\n",
            "|       0.0|       2.0|\n",
            "+----------+----------+\n",
            "only showing top 5 rows\n",
            "\n"
          ]
        }
      ],
      "source": [
        "from pyspark.ml.classification import RandomForestClassifier \n",
        "rf=RandomForestClassifier(labelCol=\"ClassIndex\",\\\n",
        "featuresCol=\"features\",numTrees=10)\n",
        "model=rf.fit(trainingData)\n",
        "predictions=model.transform(testData)\n",
        "predictions.select(\"prediction\",\"ClassIndex\").show(5)"
      ]
    },
    {
      "cell_type": "code",
      "execution_count": 63,
      "id": "3ba3e194",
      "metadata": {
        "colab": {
          "base_uri": "https://localhost:8080/"
        },
        "id": "3ba3e194",
        "outputId": "75387ce9-1017-4567-d8a6-e3b5976c0f97"
      },
      "outputs": [
        {
          "output_type": "stream",
          "name": "stdout",
          "text": [
            "Test Error = 0.10298\n",
            "Test Set accuracy = 0.8970195272353546\n"
          ]
        }
      ],
      "source": [
        "evaluator= \\\n",
        "MulticlassClassificationEvaluator(labelCol=\"ClassIndex\",\\\n",
        "predictionCol=\"prediction\",metricName=\"accuracy\")\n",
        "accuracy=evaluator.evaluate(predictions)\n",
        "print(\"Test Error = %g\" % (1.0 - accuracy))\n",
        "print(\"Test Set accuracy = \" +str(accuracy))"
      ]
    },
    {
      "cell_type": "markdown",
      "id": "a6f634c3",
      "metadata": {
        "id": "a6f634c3"
      },
      "source": [
        "# 12.\tNaive Bayes Classifier\n",
        "## Specify the NaiveBayes classifier, train the model on your training dataset, predict using your test dataset, and run an evaluator to test accuracy:\n"
      ]
    },
    {
      "cell_type": "code",
      "execution_count": 64,
      "id": "dcecfb8c",
      "metadata": {
        "id": "dcecfb8c"
      },
      "outputs": [],
      "source": [
        "from pyspark.ml.classification import NaiveBayes \n",
        "nb=NaiveBayes(labelCol=\"ClassIndex\",\\\n",
        "featuresCol=\"features\",smoothing=1.0,\\\n",
        "modelType=\"multinomial\")\n",
        "model=nb.fit(trainingData)\n"
      ]
    },
    {
      "cell_type": "markdown",
      "source": [
        "Training data and Test data were mis-labelled"
      ],
      "metadata": {
        "id": "Q87Nz0KUyoYA"
      },
      "id": "Q87Nz0KUyoYA"
    },
    {
      "cell_type": "code",
      "execution_count": 65,
      "id": "6cff66e3",
      "metadata": {
        "colab": {
          "base_uri": "https://localhost:8080/"
        },
        "id": "6cff66e3",
        "outputId": "525b9ab2-4e4b-44a1-f2ab-87082fbc4ad5"
      },
      "outputs": [
        {
          "output_type": "stream",
          "name": "stdout",
          "text": [
            "+-----+----------+--------------------+----------+\n",
            "|Class|ClassIndex|         probability|prediction|\n",
            "+-----+----------+--------------------+----------+\n",
            "|    ?|       2.0|[5.92901246728582...|      35.0|\n",
            "|    ?|       2.0|[0.0,3.2962611473...|      26.0|\n",
            "|    ?|       2.0|[0.0,2.6323925987...|      26.0|\n",
            "|    ?|       2.0|[0.0,1.3192193998...|      26.0|\n",
            "|    ?|       2.0|[0.0,6.9736910566...|      35.0|\n",
            "+-----+----------+--------------------+----------+\n",
            "only showing top 5 rows\n",
            "\n"
          ]
        }
      ],
      "source": [
        "predictions=model.transform(testData)\n",
        "predictions.select(\"Class\",\"ClassIndex\",\n",
        "\"probability\",\"prediction\").show(5)"
      ]
    },
    {
      "cell_type": "code",
      "execution_count": 66,
      "metadata": {
        "outputId": "5ebbfb45-d3d6-4a45-c0c1-4c5383b61cd5",
        "colab": {
          "base_uri": "https://localhost:8080/"
        },
        "id": "krBgK_V5ySS8"
      },
      "outputs": [
        {
          "output_type": "stream",
          "name": "stdout",
          "text": [
            "+----------+----------+\n",
            "|prediction|ClassIndex|\n",
            "+----------+----------+\n",
            "|       0.0|       2.0|\n",
            "|       0.0|       2.0|\n",
            "|       0.0|       2.0|\n",
            "|       0.0|       2.0|\n",
            "|       0.0|       2.0|\n",
            "+----------+----------+\n",
            "only showing top 5 rows\n",
            "\n"
          ]
        }
      ],
      "source": [
        "from pyspark.ml.classification import RandomForestClassifier \n",
        "rf=RandomForestClassifier(labelCol=\"ClassIndex\",\\\n",
        "featuresCol=\"features\",numTrees=10)\n",
        "model=rf.fit(trainingData)\n",
        "predictions=model.transform(testData)\n",
        "predictions.select(\"prediction\",\"ClassIndex\").show(5)"
      ],
      "id": "krBgK_V5ySS8"
    },
    {
      "cell_type": "code",
      "execution_count": 67,
      "id": "03de3fe9",
      "metadata": {
        "colab": {
          "base_uri": "https://localhost:8080/"
        },
        "id": "03de3fe9",
        "outputId": "c29baa5b-bb3d-415b-ec19-f9a8d899d10e"
      },
      "outputs": [
        {
          "output_type": "stream",
          "name": "stdout",
          "text": [
            "Test Error = 0.10298\n",
            "Test Set accuracy = 0.8970195272353546\n"
          ]
        }
      ],
      "source": [
        "evaluator= \\\n",
        "MulticlassClassificationEvaluator(labelCol=\"ClassIndex\",\\\n",
        "predictionCol=\"prediction\",metricName=\"accuracy\")\n",
        "accuracy=evaluator.evaluate(predictions)\n",
        "print(\"Test Error = %g\" % (1.0 - accuracy))\n",
        "print(\"Test Set accuracy = \" +str(accuracy))"
      ]
    },
    {
      "cell_type": "code",
      "execution_count": null,
      "id": "b9728750",
      "metadata": {
        "id": "b9728750"
      },
      "outputs": [],
      "source": []
    }
  ],
  "metadata": {
    "kernelspec": {
      "display_name": "Python 3",
      "language": "python",
      "name": "python3"
    },
    "language_info": {
      "codemirror_mode": {
        "name": "ipython",
        "version": 3
      },
      "file_extension": ".py",
      "mimetype": "text/x-python",
      "name": "python",
      "nbconvert_exporter": "python",
      "pygments_lexer": "ipython3",
      "version": "3.8.8"
    },
    "colab": {
      "provenance": [],
      "include_colab_link": true
    }
  },
  "nbformat": 4,
  "nbformat_minor": 5
}