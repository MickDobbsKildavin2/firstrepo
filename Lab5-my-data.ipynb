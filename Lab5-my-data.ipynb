{
  "cells": [
    {
      "cell_type": "markdown",
      "metadata": {
        "id": "view-in-github",
        "colab_type": "text"
      },
      "source": [
        "<a href=\"https://colab.research.google.com/github/MickDobbsKildavin2/firstrepo/blob/main/Lab5-my-data.ipynb\" target=\"_parent\"><img src=\"https://colab.research.google.com/assets/colab-badge.svg\" alt=\"Open In Colab\"/></a>"
      ]
    },
    {
      "cell_type": "markdown",
      "id": "343dd1e2",
      "metadata": {
        "id": "343dd1e2"
      },
      "source": [
        "# Lab 5 for Big Data programming.\n",
        "# Apache Spark Machine Learning using Dataframes in Google Colab\n",
        "\n",
        "\n"
      ]
    },
    {
      "cell_type": "markdown",
      "id": "3b16332d",
      "metadata": {
        "id": "3b16332d"
      },
      "source": [
        "# 1.\tSetup an Apache Spark instance in Google Colab"
      ]
    },
    {
      "cell_type": "code",
      "execution_count": 1,
      "id": "1980102b",
      "metadata": {
        "id": "1980102b"
      },
      "outputs": [],
      "source": [
        "# Run once.\n",
        "\n",
        "!apt-get install openjdk-8-jdk-headless -qq > /dev/null\n",
        "!wget -q https://archive.apache.org/dist/spark/spark-3.0.2/spark-3.0.2-bin-hadoop2.7.tgz\n",
        "!tar xf spark-3.0.2-bin-hadoop2.7.tgz\n",
        "!pip install -q findspark\n",
        "\n",
        "#Run Once\n",
        "import os\n",
        "os.environ[\"SPARK_HOME\"] = \"/content/spark-3.0.2-bin-hadoop2.7\"\n",
        "import findspark\n",
        "findspark.init()\n"
      ]
    },
    {
      "cell_type": "markdown",
      "id": "17fd7c95",
      "metadata": {
        "id": "17fd7c95"
      },
      "source": [
        "# 2.\tCreate a Spark session"
      ]
    },
    {
      "cell_type": "code",
      "execution_count": 20,
      "id": "72c9103e",
      "metadata": {
        "colab": {
          "base_uri": "https://localhost:8080/",
          "height": 219
        },
        "id": "72c9103e",
        "outputId": "0386e600-7527-4392-9245-7eeadf211d69"
      },
      "outputs": [
        {
          "output_type": "execute_result",
          "data": {
            "text/plain": [
              "<pyspark.sql.session.SparkSession at 0x7f67282c5490>"
            ],
            "text/html": [
              "\n",
              "            <div>\n",
              "                <p><b>SparkSession - in-memory</b></p>\n",
              "                \n",
              "        <div>\n",
              "            <p><b>SparkContext</b></p>\n",
              "\n",
              "            <p><a href=\"http://85af096bdd9a:4050\">Spark UI</a></p>\n",
              "\n",
              "            <dl>\n",
              "              <dt>Version</dt>\n",
              "                <dd><code>v3.0.2</code></dd>\n",
              "              <dt>Master</dt>\n",
              "                <dd><code>local</code></dd>\n",
              "              <dt>AppName</dt>\n",
              "                <dd><code>Colab</code></dd>\n",
              "            </dl>\n",
              "        </div>\n",
              "        \n",
              "            </div>\n",
              "        "
            ]
          },
          "metadata": {},
          "execution_count": 20
        }
      ],
      "source": [
        "from pyspark.sql import SparkSession\n",
        "spark = SparkSession.builder\\\n",
        "        .master(\"local\")\\\n",
        "        .appName(\"Colab\")\\\n",
        "        .config('spark.ui.port', '4050')\\\n",
        "        .getOrCreate()\n",
        "spark\n"
      ]
    },
    {
      "cell_type": "markdown",
      "id": "174d4ca8",
      "metadata": {
        "id": "174d4ca8"
      },
      "source": [
        "# 3.\tDownload the Iris dataset and another dataset of your choosing\n",
        "\n"
      ]
    },
    {
      "cell_type": "code",
      "execution_count": 21,
      "id": "5e90c781",
      "metadata": {
        "colab": {
          "base_uri": "https://localhost:8080/"
        },
        "id": "5e90c781",
        "outputId": "b4d69592-f6b4-4128-df69-cd91f7d4e116"
      },
      "outputs": [
        {
          "output_type": "stream",
          "name": "stdout",
          "text": [
            "--2023-03-26 11:45:23--  https://archive.ics.uci.edu/ml/machine-learning-databases/iris/iris.data\n",
            "Resolving archive.ics.uci.edu (archive.ics.uci.edu)... 128.195.10.252\n",
            "Connecting to archive.ics.uci.edu (archive.ics.uci.edu)|128.195.10.252|:443... connected.\n",
            "HTTP request sent, awaiting response... 200 OK\n",
            "Length: 4551 (4.4K) [application/x-httpd-php]\n",
            "Saving to: ‘sample_data/iris.data’\n",
            "\n",
            "\rsample_data/iris.da   0%[                    ]       0  --.-KB/s               \rsample_data/iris.da 100%[===================>]   4.44K  --.-KB/s    in 0s      \n",
            "\n",
            "2023-03-26 11:45:23 (89.4 MB/s) - ‘sample_data/iris.data’ saved [4551/4551]\n",
            "\n"
          ]
        }
      ],
      "source": [
        "!wget \"https://archive.ics.uci.edu/ml/machine-learning-databases/iris/iris.data\" -O sample_data/iris.data"
      ]
    },
    {
      "cell_type": "markdown",
      "id": "e51cd4c2",
      "metadata": {
        "id": "e51cd4c2"
      },
      "source": [
        "# 4.\tImport the Iris dataset into a dataframe and insert screenshot of df.show()command output:"
      ]
    },
    {
      "cell_type": "code",
      "execution_count": 22,
      "id": "1f6bcfb1",
      "metadata": {
        "id": "1f6bcfb1"
      },
      "outputs": [],
      "source": [
        "#df = spark.read.csv('sample_data/iris.data', header=False, sep=\",\", inferSchema=True)\n",
        "df = spark.read.csv('sample_data/iris.data', inferSchema=True)\\\n",
        ".toDF(\"SepalLength\",\"SepalWidth\",\"PetalLength\",\"PetalWidth\",\"Class\")"
      ]
    },
    {
      "cell_type": "markdown",
      "source": [
        "insert screenshot of df.show()command output:"
      ],
      "metadata": {
        "id": "XzcAZXGctMKq"
      },
      "id": "XzcAZXGctMKq"
    },
    {
      "cell_type": "code",
      "source": [
        "df.show()"
      ],
      "metadata": {
        "colab": {
          "base_uri": "https://localhost:8080/"
        },
        "id": "ZSN8o-vctGqU",
        "outputId": "ed1cb5ee-1d65-49d9-ffab-e55f3f0d4a2d"
      },
      "id": "ZSN8o-vctGqU",
      "execution_count": 23,
      "outputs": [
        {
          "output_type": "stream",
          "name": "stdout",
          "text": [
            "+-----------+----------+-----------+----------+-----------+\n",
            "|SepalLength|SepalWidth|PetalLength|PetalWidth|      Class|\n",
            "+-----------+----------+-----------+----------+-----------+\n",
            "|        5.1|       3.5|        1.4|       0.2|Iris-setosa|\n",
            "|        4.9|       3.0|        1.4|       0.2|Iris-setosa|\n",
            "|        4.7|       3.2|        1.3|       0.2|Iris-setosa|\n",
            "|        4.6|       3.1|        1.5|       0.2|Iris-setosa|\n",
            "|        5.0|       3.6|        1.4|       0.2|Iris-setosa|\n",
            "|        5.4|       3.9|        1.7|       0.4|Iris-setosa|\n",
            "|        4.6|       3.4|        1.4|       0.3|Iris-setosa|\n",
            "|        5.0|       3.4|        1.5|       0.2|Iris-setosa|\n",
            "|        4.4|       2.9|        1.4|       0.2|Iris-setosa|\n",
            "|        4.9|       3.1|        1.5|       0.1|Iris-setosa|\n",
            "|        5.4|       3.7|        1.5|       0.2|Iris-setosa|\n",
            "|        4.8|       3.4|        1.6|       0.2|Iris-setosa|\n",
            "|        4.8|       3.0|        1.4|       0.1|Iris-setosa|\n",
            "|        4.3|       3.0|        1.1|       0.1|Iris-setosa|\n",
            "|        5.8|       4.0|        1.2|       0.2|Iris-setosa|\n",
            "|        5.7|       4.4|        1.5|       0.4|Iris-setosa|\n",
            "|        5.4|       3.9|        1.3|       0.4|Iris-setosa|\n",
            "|        5.1|       3.5|        1.4|       0.3|Iris-setosa|\n",
            "|        5.7|       3.8|        1.7|       0.3|Iris-setosa|\n",
            "|        5.1|       3.8|        1.5|       0.3|Iris-setosa|\n",
            "+-----------+----------+-----------+----------+-----------+\n",
            "only showing top 20 rows\n",
            "\n"
          ]
        }
      ]
    },
    {
      "cell_type": "markdown",
      "id": "4b67ee40",
      "metadata": {
        "id": "4b67ee40"
      },
      "source": [
        "# 5.\tSpark ML can only deal with one features column - so we need to vectorise the multiple columns into one:"
      ]
    },
    {
      "cell_type": "code",
      "execution_count": 24,
      "id": "84b8879a",
      "metadata": {
        "id": "84b8879a"
      },
      "outputs": [],
      "source": [
        "from pyspark.ml.linalg import Vectors\n",
        "from pyspark.ml.feature import VectorAssembler\n"
      ]
    },
    {
      "cell_type": "code",
      "execution_count": 25,
      "id": "6c9645cc",
      "metadata": {
        "colab": {
          "base_uri": "https://localhost:8080/"
        },
        "id": "6c9645cc",
        "outputId": "80c39a5f-f5ee-43c6-cef5-baaf495c6084"
      },
      "outputs": [
        {
          "output_type": "stream",
          "name": "stdout",
          "text": [
            "+-----------+----------+-----------+----------+-----------+-----------------+\n",
            "|SepalLength|SepalWidth|PetalLength|PetalWidth|      Class|         features|\n",
            "+-----------+----------+-----------+----------+-----------+-----------------+\n",
            "|        5.1|       3.5|        1.4|       0.2|Iris-setosa|[5.1,3.5,1.4,0.2]|\n",
            "|        4.9|       3.0|        1.4|       0.2|Iris-setosa|[4.9,3.0,1.4,0.2]|\n",
            "|        4.7|       3.2|        1.3|       0.2|Iris-setosa|[4.7,3.2,1.3,0.2]|\n",
            "+-----------+----------+-----------+----------+-----------+-----------------+\n",
            "only showing top 3 rows\n",
            "\n"
          ]
        }
      ],
      "source": [
        "vector_assembler=VectorAssembler(\\\n",
        "inputCols=[\"SepalLength\",\"SepalWidth\",\"PetalLength\",\"PetalWidth\"],\\\n",
        "outputCol=\"features\")\n",
        "df_temp=vector_assembler.transform(df)\n",
        "df_temp.show(3)"
      ]
    },
    {
      "cell_type": "markdown",
      "source": [
        "Drop the original feature columns and just display Class & features - add screenshot here:"
      ],
      "metadata": {
        "id": "wFli-iIetuxD"
      },
      "id": "wFli-iIetuxD"
    },
    {
      "cell_type": "code",
      "execution_count": 26,
      "id": "0a378120",
      "metadata": {
        "colab": {
          "base_uri": "https://localhost:8080/"
        },
        "id": "0a378120",
        "outputId": "52d9931d-eb83-4f52-d032-6d4e33b11d4d"
      },
      "outputs": [
        {
          "output_type": "stream",
          "name": "stdout",
          "text": [
            "+-----------+-----------------+\n",
            "|      Class|         features|\n",
            "+-----------+-----------------+\n",
            "|Iris-setosa|[5.1,3.5,1.4,0.2]|\n",
            "|Iris-setosa|[4.9,3.0,1.4,0.2]|\n",
            "|Iris-setosa|[4.7,3.2,1.3,0.2]|\n",
            "+-----------+-----------------+\n",
            "only showing top 3 rows\n",
            "\n"
          ]
        }
      ],
      "source": [
        "df_temp=df_temp.drop(\"SepalLength\",\"SepalWidth\",\"PetalLength\",\"PetalWidth\")\n",
        "df_temp.show(3)\n"
      ]
    },
    {
      "cell_type": "markdown",
      "id": "d0b40bbd",
      "metadata": {
        "id": "d0b40bbd"
      },
      "source": [
        "# 6.\tThe final data preparation step is to index the Class column - to use numeric rather than text values - run the following command and display your output of Class, features & ClassIndex columns:"
      ]
    },
    {
      "cell_type": "code",
      "execution_count": 9,
      "id": "b9edf238",
      "metadata": {
        "id": "b9edf238"
      },
      "outputs": [],
      "source": [
        "from pyspark.ml.feature import StringIndexer\n",
        "l_indexer=StringIndexer(inputCol=\"Class\", outputCol=\"ClassIndex\")\n",
        "df = l_indexer.fit(df).transform(df)"
      ]
    },
    {
      "cell_type": "code",
      "execution_count": 10,
      "id": "9902f767",
      "metadata": {
        "colab": {
          "base_uri": "https://localhost:8080/"
        },
        "id": "9902f767",
        "outputId": "f9e79789-2511-4770-9476-6bc6d60a28ac"
      },
      "outputs": [
        {
          "output_type": "stream",
          "name": "stdout",
          "text": [
            "+-----------+----------+-----------+----------+-----------+----------+\n",
            "|SepalLength|SepalWidth|PetalLength|PetalWidth|      Class|ClassIndex|\n",
            "+-----------+----------+-----------+----------+-----------+----------+\n",
            "|        5.1|       3.5|        1.4|       0.2|Iris-setosa|       0.0|\n",
            "|        4.9|       3.0|        1.4|       0.2|Iris-setosa|       0.0|\n",
            "|        4.7|       3.2|        1.3|       0.2|Iris-setosa|       0.0|\n",
            "|        4.6|       3.1|        1.5|       0.2|Iris-setosa|       0.0|\n",
            "|        5.0|       3.6|        1.4|       0.2|Iris-setosa|       0.0|\n",
            "|        5.4|       3.9|        1.7|       0.4|Iris-setosa|       0.0|\n",
            "|        4.6|       3.4|        1.4|       0.3|Iris-setosa|       0.0|\n",
            "|        5.0|       3.4|        1.5|       0.2|Iris-setosa|       0.0|\n",
            "|        4.4|       2.9|        1.4|       0.2|Iris-setosa|       0.0|\n",
            "|        4.9|       3.1|        1.5|       0.1|Iris-setosa|       0.0|\n",
            "+-----------+----------+-----------+----------+-----------+----------+\n",
            "only showing top 10 rows\n",
            "\n"
          ]
        }
      ],
      "source": [
        "df.show(10)"
      ]
    },
    {
      "cell_type": "markdown",
      "source": [
        "I think I need to use the temp dataframe here to keep the new feature."
      ],
      "metadata": {
        "id": "G_lgDerUwHKz"
      },
      "id": "G_lgDerUwHKz"
    },
    {
      "cell_type": "code",
      "execution_count": 29,
      "metadata": {
        "id": "DaUgu1Cxv1Y6"
      },
      "outputs": [],
      "source": [
        "df = l_indexer.fit(df_temp).transform(df_temp)"
      ],
      "id": "DaUgu1Cxv1Y6"
    },
    {
      "cell_type": "code",
      "source": [
        "df.show()"
      ],
      "metadata": {
        "colab": {
          "base_uri": "https://localhost:8080/"
        },
        "id": "FCxXPgaCvs_O",
        "outputId": "7bd85636-8fd7-4834-d01c-d3495863be15"
      },
      "id": "FCxXPgaCvs_O",
      "execution_count": 30,
      "outputs": [
        {
          "output_type": "stream",
          "name": "stdout",
          "text": [
            "+-----------+-----------------+----------+\n",
            "|      Class|         features|ClassIndex|\n",
            "+-----------+-----------------+----------+\n",
            "|Iris-setosa|[5.1,3.5,1.4,0.2]|       0.0|\n",
            "|Iris-setosa|[4.9,3.0,1.4,0.2]|       0.0|\n",
            "|Iris-setosa|[4.7,3.2,1.3,0.2]|       0.0|\n",
            "|Iris-setosa|[4.6,3.1,1.5,0.2]|       0.0|\n",
            "|Iris-setosa|[5.0,3.6,1.4,0.2]|       0.0|\n",
            "|Iris-setosa|[5.4,3.9,1.7,0.4]|       0.0|\n",
            "|Iris-setosa|[4.6,3.4,1.4,0.3]|       0.0|\n",
            "|Iris-setosa|[5.0,3.4,1.5,0.2]|       0.0|\n",
            "|Iris-setosa|[4.4,2.9,1.4,0.2]|       0.0|\n",
            "|Iris-setosa|[4.9,3.1,1.5,0.1]|       0.0|\n",
            "|Iris-setosa|[5.4,3.7,1.5,0.2]|       0.0|\n",
            "|Iris-setosa|[4.8,3.4,1.6,0.2]|       0.0|\n",
            "|Iris-setosa|[4.8,3.0,1.4,0.1]|       0.0|\n",
            "|Iris-setosa|[4.3,3.0,1.1,0.1]|       0.0|\n",
            "|Iris-setosa|[5.8,4.0,1.2,0.2]|       0.0|\n",
            "|Iris-setosa|[5.7,4.4,1.5,0.4]|       0.0|\n",
            "|Iris-setosa|[5.4,3.9,1.3,0.4]|       0.0|\n",
            "|Iris-setosa|[5.1,3.5,1.4,0.3]|       0.0|\n",
            "|Iris-setosa|[5.7,3.8,1.7,0.3]|       0.0|\n",
            "|Iris-setosa|[5.1,3.8,1.5,0.3]|       0.0|\n",
            "+-----------+-----------------+----------+\n",
            "only showing top 20 rows\n",
            "\n"
          ]
        }
      ]
    },
    {
      "cell_type": "code",
      "source": [],
      "metadata": {
        "id": "KVYpOMN6vtkA"
      },
      "id": "KVYpOMN6vtkA",
      "execution_count": null,
      "outputs": []
    },
    {
      "cell_type": "markdown",
      "id": "01142097",
      "metadata": {
        "id": "01142097"
      },
      "source": [
        "# 7.\tSplit your data into training and test datasets:"
      ]
    },
    {
      "cell_type": "code",
      "execution_count": 36,
      "id": "9b11cb09",
      "metadata": {
        "id": "9b11cb09"
      },
      "outputs": [],
      "source": [
        "(trainingData,testData) = df.randomSplit([0.7,0.3])"
      ]
    },
    {
      "cell_type": "markdown",
      "id": "cccddb4c",
      "metadata": {
        "id": "cccddb4c"
      },
      "source": [
        "# 8.\tDecision Tree Classifier \n",
        "## Specify the DecisionTreeClassifier and train the model on your training dataset:\n"
      ]
    },
    {
      "cell_type": "code",
      "execution_count": 37,
      "id": "8b3dfcdf",
      "metadata": {
        "id": "8b3dfcdf"
      },
      "outputs": [],
      "source": [
        "from pyspark.ml.classification import DecisionTreeClassifier \n",
        "from pyspark.ml.evaluation import MulticlassClassificationEvaluator\n"
      ]
    },
    {
      "cell_type": "code",
      "source": [
        "trainingData"
      ],
      "metadata": {
        "colab": {
          "base_uri": "https://localhost:8080/"
        },
        "id": "y2fdCcimu0D5",
        "outputId": "ca486fea-adf0-4c35-d289-16402b0833f6"
      },
      "id": "y2fdCcimu0D5",
      "execution_count": 38,
      "outputs": [
        {
          "output_type": "execute_result",
          "data": {
            "text/plain": [
              "DataFrame[Class: string, features: vector, ClassIndex: double]"
            ]
          },
          "metadata": {},
          "execution_count": 38
        }
      ]
    },
    {
      "cell_type": "code",
      "execution_count": 39,
      "id": "a360ce00",
      "metadata": {
        "id": "a360ce00"
      },
      "outputs": [],
      "source": [
        "dt = DecisionTreeClassifier(labelCol=\"ClassIndex\",featuresCol=\"features\")"
      ]
    },
    {
      "cell_type": "code",
      "source": [
        "model = dt.fit(trainingData)"
      ],
      "metadata": {
        "id": "_Ek1SgDeu90x"
      },
      "id": "_Ek1SgDeu90x",
      "execution_count": 40,
      "outputs": []
    },
    {
      "cell_type": "markdown",
      "id": "a050d976",
      "metadata": {
        "id": "a050d976"
      },
      "source": [
        "# 9.\tTest your model with your test dataset: "
      ]
    },
    {
      "cell_type": "code",
      "execution_count": 41,
      "id": "813e78ee",
      "metadata": {
        "id": "813e78ee"
      },
      "outputs": [],
      "source": [
        "predictions = model.transform(testData)"
      ]
    },
    {
      "cell_type": "code",
      "execution_count": 42,
      "id": "26649045",
      "metadata": {
        "colab": {
          "base_uri": "https://localhost:8080/"
        },
        "id": "26649045",
        "outputId": "a3aa7a43-0591-4871-d61d-2b4cabafcc24"
      },
      "outputs": [
        {
          "output_type": "stream",
          "name": "stdout",
          "text": [
            "+----------+----------+\n",
            "|prediction|ClassIndex|\n",
            "+----------+----------+\n",
            "|       0.0|       0.0|\n",
            "|       0.0|       0.0|\n",
            "|       0.0|       0.0|\n",
            "|       0.0|       0.0|\n",
            "|       0.0|       0.0|\n",
            "+----------+----------+\n",
            "only showing top 5 rows\n",
            "\n"
          ]
        }
      ],
      "source": [
        "predictions.select(\"prediction\",\"ClassIndex\").show(5)"
      ]
    },
    {
      "cell_type": "markdown",
      "source": [
        "Insert a screenshot here of the first 15 rows of data:"
      ],
      "metadata": {
        "id": "C4TPe6YixJEG"
      },
      "id": "C4TPe6YixJEG"
    },
    {
      "cell_type": "code",
      "source": [
        "predictions.select(\"prediction\",\"ClassIndex\").show(15)"
      ],
      "metadata": {
        "colab": {
          "base_uri": "https://localhost:8080/"
        },
        "id": "E8noAnuexHGQ",
        "outputId": "5aab9162-d6dd-4009-f0d7-6985dfa4f709"
      },
      "id": "E8noAnuexHGQ",
      "execution_count": 43,
      "outputs": [
        {
          "output_type": "stream",
          "name": "stdout",
          "text": [
            "+----------+----------+\n",
            "|prediction|ClassIndex|\n",
            "+----------+----------+\n",
            "|       0.0|       0.0|\n",
            "|       0.0|       0.0|\n",
            "|       0.0|       0.0|\n",
            "|       0.0|       0.0|\n",
            "|       0.0|       0.0|\n",
            "|       0.0|       0.0|\n",
            "|       0.0|       0.0|\n",
            "|       0.0|       0.0|\n",
            "|       0.0|       0.0|\n",
            "|       0.0|       0.0|\n",
            "|       0.0|       0.0|\n",
            "|       0.0|       0.0|\n",
            "|       1.0|       1.0|\n",
            "|       1.0|       1.0|\n",
            "|       1.0|       1.0|\n",
            "+----------+----------+\n",
            "only showing top 15 rows\n",
            "\n"
          ]
        }
      ]
    },
    {
      "cell_type": "markdown",
      "id": "01fa3774",
      "metadata": {
        "id": "01fa3774"
      },
      "source": [
        "# 10.\tRun an evaluator function to show the accuracy of your model:"
      ]
    },
    {
      "cell_type": "code",
      "execution_count": 46,
      "id": "0e056416",
      "metadata": {
        "colab": {
          "base_uri": "https://localhost:8080/"
        },
        "id": "0e056416",
        "outputId": "035789f5-f913-41de-8d41-d55a9a9b24b3"
      },
      "outputs": [
        {
          "output_type": "stream",
          "name": "stdout",
          "text": [
            "Test Error = 0.128205\n",
            "Test Set accuracy = 0.8717948717948718\n"
          ]
        }
      ],
      "source": [
        "evaluator= MulticlassClassificationEvaluator(\\\n",
        "labelCol=\"ClassIndex\", predictionCol=\"prediction\",\\\n",
        "metricName=\"accuracy\")\n",
        "accuracy=evaluator.evaluate(predictions)\n",
        "print(\"Test Error = %g\" % (1.0 - accuracy))\n",
        "print(\"Test Set accuracy = \" +str(accuracy))"
      ]
    },
    {
      "cell_type": "markdown",
      "id": "83b3ea17",
      "metadata": {
        "id": "83b3ea17"
      },
      "source": [
        "# 11.\tRandom Forest Classifier\n",
        "\n",
        "## Specify the RandomForestClassifier, train the model on your training dataset, predict using your test dataset, and run an evaluator to test accuracy:\n"
      ]
    },
    {
      "cell_type": "code",
      "execution_count": 45,
      "id": "d8f0e628",
      "metadata": {
        "colab": {
          "base_uri": "https://localhost:8080/"
        },
        "id": "d8f0e628",
        "outputId": "39a37d99-7d92-4947-aa51-ed333fcd1c03"
      },
      "outputs": [
        {
          "output_type": "stream",
          "name": "stdout",
          "text": [
            "+----------+----------+\n",
            "|prediction|ClassIndex|\n",
            "+----------+----------+\n",
            "|       0.0|       0.0|\n",
            "|       0.0|       0.0|\n",
            "|       0.0|       0.0|\n",
            "|       0.0|       0.0|\n",
            "|       0.0|       0.0|\n",
            "+----------+----------+\n",
            "only showing top 5 rows\n",
            "\n"
          ]
        }
      ],
      "source": [
        "from pyspark.ml.classification import RandomForestClassifier \n",
        "rf=RandomForestClassifier(labelCol=\"ClassIndex\",\\\n",
        "featuresCol=\"features\",numTrees=10)\n",
        "model=rf.fit(trainingData)\n",
        "predictions=model.transform(testData)\n",
        "predictions.select(\"prediction\",\"ClassIndex\").show(5)"
      ]
    },
    {
      "cell_type": "code",
      "execution_count": 47,
      "id": "3ba3e194",
      "metadata": {
        "colab": {
          "base_uri": "https://localhost:8080/"
        },
        "id": "3ba3e194",
        "outputId": "4a763fdc-f0be-4ced-aaef-b93046d18bd4"
      },
      "outputs": [
        {
          "output_type": "stream",
          "name": "stdout",
          "text": [
            "Test Error = 0.128205\n",
            "Test Set accuracy = 0.8717948717948718\n"
          ]
        }
      ],
      "source": [
        "evaluator= \\\n",
        "MulticlassClassificationEvaluator(labelCol=\"ClassIndex\",\\\n",
        "predictionCol=\"prediction\",metricName=\"accuracy\")\n",
        "accuracy=evaluator.evaluate(predictions)\n",
        "print(\"Test Error = %g\" % (1.0 - accuracy))\n",
        "print(\"Test Set accuracy = \" +str(accuracy))"
      ]
    },
    {
      "cell_type": "markdown",
      "id": "a6f634c3",
      "metadata": {
        "id": "a6f634c3"
      },
      "source": [
        "# 12.\tNaive Bayes Classifier\n",
        "## Specify the NaiveBayes classifier, train the model on your training dataset, predict using your test dataset, and run an evaluator to test accuracy:\n"
      ]
    },
    {
      "cell_type": "code",
      "execution_count": 49,
      "id": "dcecfb8c",
      "metadata": {
        "id": "dcecfb8c"
      },
      "outputs": [],
      "source": [
        "from pyspark.ml.classification import NaiveBayes \n",
        "nb=NaiveBayes(labelCol=\"ClassIndex\",\\\n",
        "featuresCol=\"features\",smoothing=1.0,\\\n",
        "modelType=\"multinomial\")\n",
        "model=nb.fit(trainingData)\n"
      ]
    },
    {
      "cell_type": "markdown",
      "source": [
        "Training data and Test data were mis-labelled"
      ],
      "metadata": {
        "id": "Q87Nz0KUyoYA"
      },
      "id": "Q87Nz0KUyoYA"
    },
    {
      "cell_type": "code",
      "execution_count": 52,
      "id": "6cff66e3",
      "metadata": {
        "colab": {
          "base_uri": "https://localhost:8080/"
        },
        "id": "6cff66e3",
        "outputId": "5b8018ed-f30a-445b-e4ff-656b85821032"
      },
      "outputs": [
        {
          "output_type": "stream",
          "name": "stdout",
          "text": [
            "+-----------+----------+--------------------+----------+\n",
            "|      Class|ClassIndex|         probability|prediction|\n",
            "+-----------+----------+--------------------+----------+\n",
            "|Iris-setosa|       0.0|[0.68897051141422...|       0.0|\n",
            "|Iris-setosa|       0.0|[0.70846187545311...|       0.0|\n",
            "|Iris-setosa|       0.0|[0.71866737524836...|       0.0|\n",
            "|Iris-setosa|       0.0|[0.71866737524836...|       0.0|\n",
            "|Iris-setosa|       0.0|[0.66660245059756...|       0.0|\n",
            "+-----------+----------+--------------------+----------+\n",
            "only showing top 5 rows\n",
            "\n"
          ]
        }
      ],
      "source": [
        "predictions=model.transform(testData)\n",
        "predictions.select(\"Class\",\"ClassIndex\",\n",
        "\"probability\",\"prediction\").show(5)"
      ]
    },
    {
      "cell_type": "code",
      "execution_count": 53,
      "metadata": {
        "outputId": "cea5752a-e99f-4bd8-baa6-b282b2d4eafe",
        "colab": {
          "base_uri": "https://localhost:8080/"
        },
        "id": "krBgK_V5ySS8"
      },
      "outputs": [
        {
          "output_type": "stream",
          "name": "stdout",
          "text": [
            "+----------+----------+\n",
            "|prediction|ClassIndex|\n",
            "+----------+----------+\n",
            "|       0.0|       0.0|\n",
            "|       0.0|       0.0|\n",
            "|       0.0|       0.0|\n",
            "|       0.0|       0.0|\n",
            "|       0.0|       0.0|\n",
            "+----------+----------+\n",
            "only showing top 5 rows\n",
            "\n"
          ]
        }
      ],
      "source": [
        "from pyspark.ml.classification import RandomForestClassifier \n",
        "rf=RandomForestClassifier(labelCol=\"ClassIndex\",\\\n",
        "featuresCol=\"features\",numTrees=10)\n",
        "model=rf.fit(trainingData)\n",
        "predictions=model.transform(testData)\n",
        "predictions.select(\"prediction\",\"ClassIndex\").show(5)"
      ],
      "id": "krBgK_V5ySS8"
    },
    {
      "cell_type": "code",
      "execution_count": 54,
      "id": "03de3fe9",
      "metadata": {
        "colab": {
          "base_uri": "https://localhost:8080/"
        },
        "id": "03de3fe9",
        "outputId": "456dd6d7-bffd-4249-f463-f0b0a5cb6219"
      },
      "outputs": [
        {
          "output_type": "stream",
          "name": "stdout",
          "text": [
            "Test Error = 0.128205\n",
            "Test Set accuracy = 0.8717948717948718\n"
          ]
        }
      ],
      "source": [
        "evaluator= \\\n",
        "MulticlassClassificationEvaluator(labelCol=\"ClassIndex\",\\\n",
        "predictionCol=\"prediction\",metricName=\"accuracy\")\n",
        "accuracy=evaluator.evaluate(predictions)\n",
        "print(\"Test Error = %g\" % (1.0 - accuracy))\n",
        "print(\"Test Set accuracy = \" +str(accuracy))"
      ]
    },
    {
      "cell_type": "code",
      "execution_count": null,
      "id": "b9728750",
      "metadata": {
        "id": "b9728750"
      },
      "outputs": [],
      "source": []
    }
  ],
  "metadata": {
    "kernelspec": {
      "display_name": "Python 3",
      "language": "python",
      "name": "python3"
    },
    "language_info": {
      "codemirror_mode": {
        "name": "ipython",
        "version": 3
      },
      "file_extension": ".py",
      "mimetype": "text/x-python",
      "name": "python",
      "nbconvert_exporter": "python",
      "pygments_lexer": "ipython3",
      "version": "3.8.8"
    },
    "colab": {
      "provenance": [],
      "include_colab_link": true
    }
  },
  "nbformat": 4,
  "nbformat_minor": 5
}